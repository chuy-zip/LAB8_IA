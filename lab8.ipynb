{
 "cells": [
  {
   "cell_type": "markdown",
   "metadata": {},
   "source": [
    "# Task 1 Preguntas teóricas\n",
    "\n",
    "Responda las siguientes preguntas de forma clara y concisa, pueden subir un PDF o bien dentro del mismo Jupyter Notebook.\n",
    "\n",
    "1. Investigar el algoritmo AC-3 y su relación con el algoritmo de backtracking search\n",
    "\n",
    "El algoritmo AC-3, *signfica Arc Consistency 3*. Es un método que se usa para poder cumplir con la consistencia (Arc consistency) en un problema de satisfacción de restricciones CSP. El objetivo es eliminar valores problemáticos o bien inconsistentes del dominio de las variables, por ejemplo eliminar variables en un arco entre un par de variables (x,y), que no cumplen las restricciones entre \"x\" y \"y\". Esto ayuda a reducir el espacio de búsqueda antes de aplicar algoritmos. Usualmente el AC-3 forma parte del procesamiento del entorno para simplificar el problema de CSP antes de aplicar Backtracking Search por ejemplo. Cuando decimos que ayuda a simplificar, nos referimos a que elimina valores que seguramente no sean significativos o que no vayan a formar parte de alguna solución. Esto ayuda a hacer más eficiente la busqueda al reducir los errores (backtracks) al ejecutar el algoritmo.\n",
    "\n",
    "2. Defina en sus propias palabras el término “Arc Consistency”\n",
    "\n",
    "Primero, un arco es un par de variables relacionadas por una restricción. Cuando se habla de consistencia de Arco (\"Arc Consistency\"), el termino se refiere a una propiedad en CSP. Esta consistencia significa y asegura que para un par de variables (X1,X2), cada valor en el dominio de X2, tiene al menos un valor compatible en el dominio de X1. Si para todo valor \"x\" de X1 hay un valor \"y\" compatible (cuando decimos compatible nos referimos a que cumplen las restricciones) en el dominio X2 el arco entre las variables es consistente."
   ]
  },
  {
   "cell_type": "markdown",
   "metadata": {},
   "source": [
    "# Task 2 - CSP con Backtracking, Beam y Local Search\n",
    "\n",
    "En este ejercicio, implementará tres algoritmos diferentes de satisfacción de restricciones para resolver un problema de programación de exámenes para cuatro estudiantes que toman siete exámenes diferentes. El problema implica calendarizar los exámenes para los estudiantes respetando diversas limitaciones y preferencias.\n",
    "Restricciones:\n",
    "\n",
    "* Todos los exámenes deberán realizarse en días diferentes, concretamente lunes, martes y miércoles.\n",
    "* Ningún estudiante deberá tener más de un examen por día.\n",
    "* Los estudiantes que toman el mismo curso no pueden tener exámenes programados para el mismo día"
   ]
  },
  {
   "cell_type": "markdown",
   "metadata": {},
   "source": [
    "## Configuracion de entorno para los 3 tipos de algoritmos:"
   ]
  },
  {
   "cell_type": "code",
   "execution_count": null,
   "metadata": {},
   "outputs": [],
   "source": [
    "# configuracion inicial\n",
    "examenes = [\"examen_1\", \"examen_2\", \"examen_3\", \"examen_4\", \"examen_5\", \"examen_6\", \"examen_7\"]\n",
    "dias = [\"Lunes\"]\n",
    "estudiantes = [\"Nelson\", \"Cristian\", \"Chuy\", \"Suriano\"]"
   ]
  },
  {
   "cell_type": "markdown",
   "metadata": {},
   "source": [
    "### Implementación de backtracking search"
   ]
  },
  {
   "cell_type": "code",
   "execution_count": null,
   "metadata": {},
   "outputs": [],
   "source": [
    "#backtracking search"
   ]
  },
  {
   "cell_type": "markdown",
   "metadata": {},
   "source": [
    "### Implementación de beam search"
   ]
  },
  {
   "cell_type": "code",
   "execution_count": null,
   "metadata": {},
   "outputs": [],
   "source": [
    "#beam search"
   ]
  },
  {
   "cell_type": "markdown",
   "metadata": {},
   "source": [
    "### Implementacion de local search"
   ]
  },
  {
   "cell_type": "code",
   "execution_count": null,
   "metadata": {},
   "outputs": [],
   "source": [
    "#local search"
   ]
  }
 ],
 "metadata": {
  "language_info": {
   "name": "python"
  }
 },
 "nbformat": 4,
 "nbformat_minor": 2
}
