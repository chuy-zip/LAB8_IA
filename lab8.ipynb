{
 "cells": [
  {
   "cell_type": "markdown",
   "metadata": {},
   "source": [
    "# Task 1 Preguntas teóricas\n",
    "\n",
    "Responda las siguientes preguntas de forma clara y concisa, pueden subir un PDF o bien dentro del mismo Jupyter Notebook.\n",
    "\n",
    "1. Investigar el algoritmo AC-3 y su relación con el algoritmo de backtracking search\n",
    "\n",
    "El algoritmo AC-3, *signfica Arc Consistency 3*. Es un método que se usa para poder cumplir con la consistencia (Arc consistency) en un problema de satisfacción de restricciones CSP. El objetivo es eliminar valores problemáticos o bien inconsistentes del dominio de las variables, por ejemplo eliminar variables en un arco entre un par de variables (x,y), que no cumplen las restricciones entre \"x\" y \"y\". Esto ayuda a reducir el espacio de búsqueda antes de aplicar algoritmos. Usualmente el AC-3 forma parte del procesamiento del entorno para simplificar el problema de CSP antes de aplicar Backtracking Search por ejemplo. Cuando decimos que ayuda a simplificar, nos referimos a que elimina valores que seguramente no sean significativos o que no vayan a formar parte de alguna solución. Esto ayuda a hacer más eficiente la busqueda al reducir los errores (backtracks) al ejecutar el algoritmo.\n",
    "\n",
    "2. Defina en sus propias palabras el término “Arc Consistency”\n",
    "\n",
    "Primero, un arco es un par de variables relacionadas por una restricción. Cuando se habla de consistencia de Arco (\"Arc Consistency\"), el termino se refiere a una propiedad en CSP. Esta consistencia significa y asegura que para un par de variables (X1,X2), cada valor en el dominio de X2, tiene al menos un valor compatible en el dominio de X1. Si para todo valor \"x\" de X1 hay un valor \"y\" compatible (cuando decimos compatible nos referimos a que cumplen las restricciones) en el dominio X2 el arco entre las variables es consistente."
   ]
  },
  {
   "cell_type": "markdown",
   "metadata": {},
   "source": [
    "# Task 2 - CSP con Backtracking, Beam y Local Search\n",
    "\n",
    "En este ejercicio, implementará tres algoritmos diferentes de satisfacción de restricciones para resolver un problema de programación de exámenes para cuatro estudiantes que toman siete exámenes diferentes. El problema implica calendarizar los exámenes para los estudiantes respetando diversas limitaciones y preferencias.\n",
    "Restricciones:\n",
    "\n",
    "* Todos los exámenes deberán realizarse en días diferentes, concretamente lunes, martes y miércoles.\n",
    "* Ningún estudiante deberá tener más de un examen por día.\n",
    "* Los estudiantes que toman el mismo curso no pueden tener exámenes programados para el mismo día"
   ]
  },
  {
   "cell_type": "markdown",
   "metadata": {},
   "source": [
    "### Implementación de backtracking search"
   ]
  },
  {
   "cell_type": "code",
   "execution_count": null,
   "metadata": {},
   "outputs": [
    {
     "name": "stdout",
     "output_type": "stream",
     "text": [
      "\n",
      "Solución encontrada:\n",
      "\n",
      "Lunes:\n",
      "  Nelson: Calculo\n",
      "  Christian: Fisica\n",
      "  Chuy: Sistemas\n",
      "  Suriano: IA\n",
      "\n",
      "Martes:\n",
      "  Nelson: Algoritmos\n",
      "  Christian: Algebra\n",
      "  Suriano: Geometria\n",
      "\n",
      "Miercoles:\n",
      "\n",
      "Tiempo de ejecución: 0.000041 segundos\n"
     ]
    },
    {
     "data": {
      "text/plain": [
       "({('Nelson', 'Calculo'): 'Lunes',\n",
       "  ('Nelson', 'Algoritmos'): 'Martes',\n",
       "  ('Christian', 'Fisica'): 'Lunes',\n",
       "  ('Christian', 'Algebra'): 'Martes',\n",
       "  ('Chuy', 'Sistemas'): 'Lunes',\n",
       "  ('Suriano', 'IA'): 'Lunes',\n",
       "  ('Suriano', 'Geometria'): 'Martes'},\n",
       " 4.070000068168156e-05)"
      ]
     },
     "execution_count": 5,
     "metadata": {},
     "output_type": "execute_result"
    }
   ],
   "source": [
    "from itertools import combinations\n",
    "import random\n",
    "import time\n",
    "from collections import defaultdict\n",
    "\n",
    "def inicializar_problema():\n",
    "    \"\"\"Configuración inicial del problema\"\"\"\n",
    "    examenes = [\"Calculo\", \"Fisica\", \"Algebra\", \"IA\", \"Algoritmos\", \"Sistemas\", \"Geometria\"]\n",
    "    dias = [\"Lunes\", \"Martes\", \"Miercoles\"]\n",
    "    estudiantes = [\"Nelson\", \"Christian\", \"Chuy\", \"Suriano\"]\n",
    "    \n",
    "    matricula = {\n",
    "        \"Nelson\": [\"Calculo\", \"Algoritmos\"],\n",
    "        \"Christian\": [\"Fisica\", \"Algebra\"],\n",
    "        \"Chuy\": [\"Sistemas\"],\n",
    "        \"Suriano\": [\"IA\", \"Geometria\"]\n",
    "    }\n",
    "    \n",
    "    return examenes, dias, estudiantes, matricula\n",
    "\n",
    "def crear_variables_y_dominios(matricula, dias):\n",
    "    \"\"\"Crea las variables y dominios iniciales\"\"\"\n",
    "    variables = [(est, examen) for est, examenes in matricula.items() for examen in examenes]\n",
    "    dominios = {var: list(dias) for var in variables}\n",
    "    return variables, dominios\n",
    "\n",
    "def es_asignacion_valida(var, valor, asignacion):\n",
    "    \"\"\"Verifica si una asignación es válida según las restricciones\"\"\"\n",
    "    estudiante, examen = var\n",
    "    \n",
    "    # Regla 2: Un estudiante no puede tener dos exámenes el mismo día\n",
    "    for (est, ex), dia in asignacion.items():\n",
    "        if est == estudiante and dia == valor:\n",
    "            return False\n",
    "    \n",
    "    # Regla 3: Estudiantes que comparten examen no pueden tenerlo el mismo día\n",
    "    for (est, ex), dia in asignacion.items():\n",
    "        if ex == examen and dia == valor:\n",
    "            return False\n",
    "    \n",
    "    return True\n",
    "\n",
    "def seleccionar_variable_sin_asignar(variables, asignacion):\n",
    "    \"\"\"Selecciona la próxima variable a asignar (estrategia simple)\"\"\"\n",
    "    for var in variables:\n",
    "        if var not in asignacion:\n",
    "            return var\n",
    "    return None\n",
    "\n",
    "def resolver_problema_backtracking():\n",
    "    \"\"\"Función principal que resuelve el problema y mide el tiempo\"\"\"\n",
    "    # Inicialización\n",
    "    examenes, dias, estudiantes, matricula = inicializar_problema()\n",
    "    variables, dominios = crear_variables_y_dominios(matricula, dias)\n",
    "    \n",
    "    # Algoritmo de backtracking\n",
    "    def backtracking(asignacion):\n",
    "        if len(asignacion) == len(variables):\n",
    "            return asignacion\n",
    "        \n",
    "        var = seleccionar_variable_sin_asignar(variables, asignacion)\n",
    "        for valor in dominios[var]:\n",
    "            if es_asignacion_valida(var, valor, asignacion):\n",
    "                asignacion[var] = valor\n",
    "                resultado = backtracking(asignacion)\n",
    "                if resultado is not None:\n",
    "                    return resultado\n",
    "                del asignacion[var]\n",
    "        return None\n",
    "    \n",
    "    # Medición del tiempo\n",
    "    inicio = time.perf_counter()\n",
    "    solucion = backtracking({})\n",
    "    tiempo_ejecucion = time.perf_counter() - inicio\n",
    "    \n",
    "    # Presentación de resultados\n",
    "    if solucion is None:\n",
    "        print(\"No se encontró solución\")\n",
    "        return None, tiempo_ejecucion\n",
    "    \n",
    "    # Organizar resultados por día\n",
    "    calendario = defaultdict(list)\n",
    "    for (estudiante, examen), dia in solucion.items():\n",
    "        calendario[dia].append((estudiante, examen))\n",
    "    \n",
    "    # Mostrar resultados\n",
    "    print(\"\\nSolución encontrada:\")\n",
    "    for dia in dias:\n",
    "        print(f\"\\n{dia}:\")\n",
    "        for estudiante, examen in calendario[dia]:\n",
    "            print(f\"  {estudiante}: {examen}\")\n",
    "    \n",
    "    print(f\"\\nTiempo de ejecución: {tiempo_ejecucion:.6f} segundos\")\n",
    "    return solucion, tiempo_ejecucion\n",
    "\n",
    "resolver_problema_backtracking()"
   ]
  },
  {
   "cell_type": "markdown",
   "metadata": {},
   "source": [
    "### Implementación de beam search"
   ]
  },
  {
   "cell_type": "code",
   "execution_count": 6,
   "metadata": {},
   "outputs": [],
   "source": [
    "#beam search"
   ]
  },
  {
   "cell_type": "markdown",
   "metadata": {},
   "source": [
    "### Implementacion de local search"
   ]
  },
  {
   "cell_type": "code",
   "execution_count": 7,
   "metadata": {},
   "outputs": [],
   "source": [
    "#local search"
   ]
  }
 ],
 "metadata": {
  "kernelspec": {
   "display_name": "Python 3",
   "language": "python",
   "name": "python3"
  },
  "language_info": {
   "codemirror_mode": {
    "name": "ipython",
    "version": 3
   },
   "file_extension": ".py",
   "mimetype": "text/x-python",
   "name": "python",
   "nbconvert_exporter": "python",
   "pygments_lexer": "ipython3",
   "version": "3.12.2"
  }
 },
 "nbformat": 4,
 "nbformat_minor": 2
}
