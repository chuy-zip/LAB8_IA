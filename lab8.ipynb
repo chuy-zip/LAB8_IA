{
 "cells": [
  {
   "cell_type": "markdown",
   "metadata": {},
   "source": [
    "# Task 1 Preguntas teóricas\n",
    "\n",
    "Responda las siguientes preguntas de forma clara y concisa, pueden subir un PDF o bien dentro del mismo Jupyter Notebook.\n",
    "\n",
    "1. Investigar el algoritmo AC-3 y su relación con el algoritmo de backtracking search\n",
    "\n",
    "El algoritmo AC-3, *signfica Arc Consistency 3*. Es un método que se usa para poder cumplir con la consistencia (Arc consistency) en un problema de satisfacción de restricciones CSP. El objetivo es eliminar valores problemáticos o bien inconsistentes del dominio de las variables, por ejemplo eliminar variables en un arco entre un par de variables (x,y), que no cumplen las restricciones entre \"x\" y \"y\". Esto ayuda a reducir el espacio de búsqueda antes de aplicar algoritmos. Usualmente el AC-3 forma parte del procesamiento del entorno para simplificar el problema de CSP antes de aplicar Backtracking Search por ejemplo. Cuando decimos que ayuda a simplificar, nos referimos a que elimina valores que seguramente no sean significativos o que no vayan a formar parte de alguna solución. Esto ayuda a hacer más eficiente la busqueda al reducir los errores (backtracks) al ejecutar el algoritmo.\n",
    "\n",
    "2. Defina en sus propias palabras el término “Arc Consistency”\n",
    "\n",
    "Primero, un arco es un par de variables relacionadas por una restricción. Cuando se habla de consistencia de Arco (\"Arc Consistency\"), el termino se refiere a una propiedad en CSP. Esta consistencia significa y asegura que para un par de variables (X1,X2), cada valor en el dominio de X2, tiene al menos un valor compatible en el dominio de X1. Si para todo valor \"x\" de X1 hay un valor \"y\" compatible (cuando decimos compatible nos referimos a que cumplen las restricciones) en el dominio X2 el arco entre las variables es consistente."
   ]
  },
  {
   "cell_type": "markdown",
   "metadata": {},
   "source": [
    "# Task 2 - CSP con Backtracking, Beam y Local Search\n",
    "\n",
    "En este ejercicio, implementará tres algoritmos diferentes de satisfacción de restricciones para resolver un problema de programación de exámenes para cuatro estudiantes que toman siete exámenes diferentes. El problema implica calendarizar los exámenes para los estudiantes respetando diversas limitaciones y preferencias.\n",
    "Restricciones:\n",
    "\n",
    "* Todos los exámenes deberán realizarse en días diferentes, concretamente lunes, martes y miércoles.\n",
    "* Ningún estudiante deberá tener más de un examen por día.\n",
    "* Los estudiantes que toman el mismo curso no pueden tener exámenes programados para el mismo día"
   ]
  },
  {
   "cell_type": "markdown",
   "metadata": {},
   "source": [
    "## Configuracion de entorno para los 3 tipos de algoritmos:"
   ]
  },
  {
   "cell_type": "code",
   "execution_count": 15,
   "metadata": {},
   "outputs": [
    {
     "name": "stdout",
     "output_type": "stream",
     "text": [
      "Dominio:  {'Calculo': ['Lunes', 'Martes', 'Miercoles'], 'Fisica': ['Lunes', 'Martes', 'Miercoles'], 'Algebra': ['Lunes', 'Martes', 'Miercoles'], 'IA': ['Lunes', 'Martes', 'Miercoles'], 'Algoritmos': ['Lunes', 'Martes', 'Miercoles'], 'Sistemas': ['Lunes', 'Martes', 'Miercoles'], 'Geometria': ['Lunes', 'Martes', 'Miercoles']}\n",
      "Restricciones:  [('Calculo', 'Fisica'), ('Calculo', 'Algebra'), ('Fisica', 'Algebra'), ('Fisica', 'IA'), ('Fisica', 'Algoritmos'), ('IA', 'Algoritmos'), ('Algebra', 'Sistemas'), ('Algebra', 'Geometria'), ('Sistemas', 'Geometria'), ('IA', 'Algoritmos'), ('IA', 'Sistemas'), ('Algoritmos', 'Sistemas')]\n"
     ]
    }
   ],
   "source": [
    "from itertools import combinations  \n",
    "import random  \n",
    "import pandas as pd\n",
    "import time \n",
    "\n",
    "# configuracion inicial\n",
    "examenes = [\"Calculo\", \"Fisica\", \"Algebra\", \"IA\", \"Algoritmos\", \"Sistemas\", \"Geometria\"]\n",
    "dias = [\"Lunes\", \"Martes\", \"Miercoles\"]\n",
    "estudiantes = [\"Nelson\", \"Christian\", \"Chuy\", \"Suriano\"]\n",
    "\n",
    "\n",
    "# definicion de variables y Dominio: Todos los exámenes pueden asignarse a cualquier dia al principio\n",
    "dominio = {examen: list(dias) for examen in examenes}\n",
    "\n",
    "print(\"Dominio: \", dominio)\n",
    "\n",
    "# ejemplo de examenes por estudiante\n",
    "estudiantes_examenes = {\n",
    "    \"Nelson\": [\"Calculo\", \"Fisica\", \"Algebra\"],\n",
    "    \"Christian\": [\"Fisica\", \"IA\", \"Algoritmos\"],\n",
    "    \"Chuy\": [\"Algebra\", \"Sistemas\", \"Geometria\"],\n",
    "    \"Suriano\": [\"IA\", \"Algoritmos\", \"Sistemas\"]\n",
    "}\n",
    "\n",
    "# restricciones\n",
    "# Restricciones: Lista de tuplas (examen1, examen2) que no pueden estar en el mismo día\n",
    "restricciones = []\n",
    "\n",
    "# Restriccion 2: Estudiantes no pueden tener 2 exzmenes el mismo día\n",
    "for estudiante, cursos in estudiantes_examenes.items():\n",
    "    for curso1, curso2 in combinations(cursos, 2):\n",
    "        if (curso2, curso1) not in restricciones:  # Evitar duplicados\n",
    "            restricciones.append((curso1, curso2))\n",
    "\n",
    "print(\"Restricciones: \", restricciones)\n",
    "\n",
    "# ver si las asignaciones no dan problemas\n",
    "def es_asignacion_valida(asignacion, restricciones):\n",
    "    for exam1, exam2 in restricciones:\n",
    "        if exam1 in asignacion and exam2 in asignacion:\n",
    "            if asignacion[exam1] == asignacion[exam2]:\n",
    "                return False\n",
    "    return True"
   ]
  },
  {
   "cell_type": "markdown",
   "metadata": {},
   "source": [
    "### Implementación de backtracking search"
   ]
  },
  {
   "cell_type": "code",
   "execution_count": 19,
   "metadata": {},
   "outputs": [
    {
     "name": "stdout",
     "output_type": "stream",
     "text": [
      "Solución encontrada: {'Calculo': 'Lunes', 'Fisica': 'Martes', 'Algebra': 'Miercoles', 'IA': 'Lunes', 'Algoritmos': 'Miercoles', 'Sistemas': 'Martes', 'Geometria': 'Lunes'}\n",
      "Horario de Exámenes por Estudiante:\n",
      "Tiempo de ejecución: 9.90999978967011e-05 segundos\n"
     ]
    },
    {
     "data": {
      "text/html": [
       "<div>\n",
       "<style scoped>\n",
       "    .dataframe tbody tr th:only-of-type {\n",
       "        vertical-align: middle;\n",
       "    }\n",
       "\n",
       "    .dataframe tbody tr th {\n",
       "        vertical-align: top;\n",
       "    }\n",
       "\n",
       "    .dataframe thead th {\n",
       "        text-align: right;\n",
       "    }\n",
       "</style>\n",
       "<table border=\"1\" class=\"dataframe\">\n",
       "  <thead>\n",
       "    <tr style=\"text-align: right;\">\n",
       "      <th></th>\n",
       "      <th>Lunes</th>\n",
       "      <th>Martes</th>\n",
       "      <th>Miercoles</th>\n",
       "    </tr>\n",
       "  </thead>\n",
       "  <tbody>\n",
       "    <tr>\n",
       "      <th>Nelson</th>\n",
       "      <td>[Calculo]</td>\n",
       "      <td>[Fisica]</td>\n",
       "      <td>[Algebra]</td>\n",
       "    </tr>\n",
       "    <tr>\n",
       "      <th>Christian</th>\n",
       "      <td>[IA]</td>\n",
       "      <td>[Fisica]</td>\n",
       "      <td>[Algoritmos]</td>\n",
       "    </tr>\n",
       "    <tr>\n",
       "      <th>Chuy</th>\n",
       "      <td>[Geometria]</td>\n",
       "      <td>[Sistemas]</td>\n",
       "      <td>[Algebra]</td>\n",
       "    </tr>\n",
       "    <tr>\n",
       "      <th>Suriano</th>\n",
       "      <td>[IA]</td>\n",
       "      <td>[Sistemas]</td>\n",
       "      <td>[Algoritmos]</td>\n",
       "    </tr>\n",
       "  </tbody>\n",
       "</table>\n",
       "</div>"
      ],
      "text/plain": [
       "                 Lunes      Martes     Miercoles\n",
       "Nelson       [Calculo]    [Fisica]     [Algebra]\n",
       "Christian         [IA]    [Fisica]  [Algoritmos]\n",
       "Chuy       [Geometria]  [Sistemas]     [Algebra]\n",
       "Suriano           [IA]  [Sistemas]  [Algoritmos]"
      ]
     },
     "execution_count": 19,
     "metadata": {},
     "output_type": "execute_result"
    }
   ],
   "source": [
    "#backtracking search\n",
    "def backtracking_search(asignacion_actual, examenes_restantes, dominio, restricciones):\n",
    "\n",
    "    if not examenes_restantes:\n",
    "        return asignacion_actual.copy()  # hay solucion\n",
    "    \n",
    "    examen = examenes_restantes[0]\n",
    "    \n",
    "    for dia in dominio[examen]:\n",
    "        nueva_asignacion = asignacion_actual.copy()\n",
    "        nueva_asignacion[examen] = dia\n",
    "        \n",
    "        if es_asignacion_valida(nueva_asignacion, restricciones):\n",
    "            resultado = backtracking_search(\n",
    "                nueva_asignacion,\n",
    "                examenes_restantes[1:],\n",
    "                dominio,\n",
    "                restricciones\n",
    "            )\n",
    "            if resultado is not None:\n",
    "                return resultado\n",
    "    return None  # no hubo solucion\n",
    "\n",
    "asignacion_inicial = {}\n",
    "examenes_sin_asignar = examenes.copy()\n",
    "\n",
    "# Medir tiempo de ejecución\n",
    "inicio = time.perf_counter()\n",
    "solucion = backtracking_search(asignacion_inicial, examenes_sin_asignar, dominio, restricciones)\n",
    "final = time.perf_counter() \n",
    "\n",
    "tiempo_backtracking = final - inicio\n",
    "\n",
    "# Resultados\n",
    "print(\"Solución encontrada:\", solucion)\n",
    "horario_estudiantes = {estudiante: {dia: [] for dia in dias} for estudiante in estudiantes}\n",
    "\n",
    "# Asignar exámenes a cada estudiante según la solución\n",
    "for examen, dia in solucion.items():\n",
    "    for estudiante, cursos in estudiantes_examenes.items():\n",
    "        if examen in cursos:\n",
    "            horario_estudiantes[estudiante][dia].append(examen)\n",
    "\n",
    "# Convertir a DataFrame de pandas\n",
    "df_horario = pd.DataFrame.from_dict(horario_estudiantes, orient='index')\n",
    "df_horario = df_horario[dias]  # Ordenar columnas por días\n",
    "\n",
    "# Mostrar la tabla\n",
    "print(\"Horario de Exámenes por Estudiante:\")\n",
    "print(\"Tiempo de ejecución:\", tiempo_backtracking, \"segundos\")\n",
    "df_horario\n",
    "\n"
   ]
  },
  {
   "cell_type": "markdown",
   "metadata": {},
   "source": [
    "### Implementación de beam search"
   ]
  },
  {
   "cell_type": "code",
   "execution_count": 17,
   "metadata": {},
   "outputs": [],
   "source": [
    "#beam search"
   ]
  },
  {
   "cell_type": "markdown",
   "metadata": {},
   "source": [
    "### Implementacion de local search"
   ]
  },
  {
   "cell_type": "code",
   "execution_count": 18,
   "metadata": {},
   "outputs": [],
   "source": [
    "#local search"
   ]
  }
 ],
 "metadata": {
  "kernelspec": {
   "display_name": "Python 3",
   "language": "python",
   "name": "python3"
  },
  "language_info": {
   "codemirror_mode": {
    "name": "ipython",
    "version": 3
   },
   "file_extension": ".py",
   "mimetype": "text/x-python",
   "name": "python",
   "nbconvert_exporter": "python",
   "pygments_lexer": "ipython3",
   "version": "3.12.2"
  }
 },
 "nbformat": 4,
 "nbformat_minor": 2
}
